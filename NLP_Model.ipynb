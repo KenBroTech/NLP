{
 "cells": [
  {
   "cell_type": "markdown",
   "id": "c5954111",
   "metadata": {},
   "source": [
    "# Natural Language Processing (NLP)"
   ]
  },
  {
   "cell_type": "markdown",
   "id": "5570d383",
   "metadata": {},
   "source": [
    "## Background\n",
    "\n",
    "Machine Learning enables computers and computer systems to perform complex tasks that conventional programming cannot do. <br>\n",
    "Some of these complex tasks include: \n",
    "- Task Prediction\n",
    "- Object Recognision\n",
    "- Natural Language Processing"
   ]
  },
  {
   "cell_type": "markdown",
   "id": "cd5a34cc",
   "metadata": {},
   "source": [
    "## What is Natural Language Processing \n",
    "Natural Language Processing (NLP) is the application of computational techniques to the analysis and synthesis of natural language.\n",
    "\n",
    "\n",
    "## Applications of NLP \n",
    "- Text Classification\n",
    "- Intent Classification\n",
    "- Sentiment Analysis\n",
    "- Named Entity Recognition\n",
    "- Keyword Extraction\n",
    "- Text Summarization\n",
    "- Question Answering"
   ]
  },
  {
   "cell_type": "markdown",
   "id": "dc40f00b",
   "metadata": {},
   "source": [
    "## Objectives\n",
    "- Understand how text is processed for NLP tasks\n",
    "- Develop a text classification model\n",
    "- Do a perfomance analysis on the NLP model\n",
    "- Use the developed model to make predictions\n",
    "- Save model and deploy on a desktop application"
   ]
  },
  {
   "cell_type": "markdown",
   "id": "e2854504",
   "metadata": {},
   "source": [
    "## Dataset\n",
    "\n",
    "[ag_news_subset](https://www.tensorflow.org/datasets/catalog/ag_news_subset)"
   ]
  },
  {
   "cell_type": "code",
   "execution_count": null,
   "id": "1435d355",
   "metadata": {},
   "outputs": [],
   "source": [
    "# Import Libraries --- [keras, sklearn, numpy, pandas, tensorflow, matplotlib]\n"
   ]
  },
  {
   "cell_type": "code",
   "execution_count": null,
   "id": "e0087292",
   "metadata": {},
   "outputs": [],
   "source": [
    "# pip install tensorflow_datasets\n"
   ]
  },
  {
   "cell_type": "code",
   "execution_count": null,
   "id": "c705a3d2",
   "metadata": {},
   "outputs": [],
   "source": [
    "# Load 'ag_news_subset' Dataset\n"
   ]
  },
  {
   "cell_type": "code",
   "execution_count": null,
   "id": "6e3ba48c",
   "metadata": {},
   "outputs": [],
   "source": [
    "# Slipt data into train and test part\n"
   ]
  },
  {
   "cell_type": "code",
   "execution_count": null,
   "id": "71658d17",
   "metadata": {},
   "outputs": [],
   "source": [
    "# Inspect Data\n"
   ]
  },
  {
   "cell_type": "markdown",
   "id": "12d5157d",
   "metadata": {},
   "source": [
    "## Components of NLP\n",
    " 1. Natural Language Understanding: Making meaning out of spoken or written language.\n",
    " 2. Natural Language Generation: Taking formal presentation of what to say and express it in a natural human language like (English, French, Spanish)\n",
    " \n",
    "---\n",
    "\n",
    "### Ananlysis Level of NLP\n",
    "\n",
    "- Morphological Analysis\n",
    "- Syntactic Analysis\n",
    "- Semantic Analysis\n",
    "- Discourse Analysis\n",
    "\n",
    "\n",
    "![flowDiagram](images/flowDiagram.png)\n",
    "\n"
   ]
  },
  {
   "cell_type": "markdown",
   "id": "c6fcb1d2",
   "metadata": {},
   "source": [
    "# Morphology\n",
    "Morphology Analysis refers to the analysis of a word based on the meaningful parts contained within\n",
    "\n",
    "\n",
    "### Text vectorization\n",
    "\n",
    "Under this section, two main things are done\n",
    "\n",
    "- Use a tokenizer to split text into tokens.\n",
    "- Build a vocabulary of those tokens."
   ]
  },
  {
   "cell_type": "code",
   "execution_count": null,
   "id": "5ce25efc",
   "metadata": {},
   "outputs": [],
   "source": []
  },
  {
   "cell_type": "markdown",
   "id": "da1dd444",
   "metadata": {},
   "source": [
    "# Syntax Analysis\n",
    "\n",
    "Syntactic analysis is an analysis that focuses on understanding the logical meaning of sentences or of parts of sentences!\n",
    "\n",
    "### Text vectorization\n",
    "\n",
    "Under this section, two main things are done\n",
    "\n",
    "- Use a tokenizer to split text into tokens.\n",
    "- Build a vocabulary of those tokens."
   ]
  },
  {
   "cell_type": "code",
   "execution_count": null,
   "id": "fa3ca30f",
   "metadata": {},
   "outputs": [],
   "source": []
  }
 ],
 "metadata": {
  "kernelspec": {
   "display_name": "Python 3",
   "language": "python",
   "name": "python3"
  },
  "language_info": {
   "codemirror_mode": {
    "name": "ipython",
    "version": 3
   },
   "file_extension": ".py",
   "mimetype": "text/x-python",
   "name": "python",
   "nbconvert_exporter": "python",
   "pygments_lexer": "ipython3",
   "version": "3.9.1"
  }
 },
 "nbformat": 4,
 "nbformat_minor": 5
}
