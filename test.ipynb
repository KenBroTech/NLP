{
 "cells": [
  {
   "cell_type": "markdown",
   "id": "c5954111",
   "metadata": {},
   "source": [
    "# Natural Language Processing (NLP)"
   ]
  },
  {
   "cell_type": "markdown",
   "id": "5570d383",
   "metadata": {},
   "source": [
    "## Background\n",
    "\n",
    "Machine Learning enables computers and computer systems to perform complex tasks that conventional programming cannot do. <br>\n",
    "Some of these complex tasks include: \n",
    "- Task Prediction\n",
    "- Object Recognision\n",
    "- Natural Language Processing"
   ]
  },
  {
   "cell_type": "markdown",
   "id": "cd5a34cc",
   "metadata": {},
   "source": [
    "## What is Natural Language Processing \n",
    "Natural Language Processing (NLP) is the application of computational techniques to the analysis and synthesis of natural language.\n",
    "\n",
    "\n",
    "## Applications of NLP \n",
    "- Text Classification\n",
    "- Intent Classification\n",
    "- Sentiment Analysis\n",
    "- Named Entity Recognition\n",
    "- Keyword Extraction\n",
    "- Text Summarization\n",
    "- Question Answering"
   ]
  },
  {
   "cell_type": "markdown",
   "id": "dc40f00b",
   "metadata": {},
   "source": [
    "## Objectives\n",
    "- Understand how text is processed for NLP tasks\n",
    "- Develop a text classification model\n",
    "- Do a perfomance analysis on the NLP model\n",
    "- Use the developed model to make predictions\n",
    "- Save model and deploy on a desktop application"
   ]
  },
  {
   "cell_type": "markdown",
   "id": "e2854504",
   "metadata": {},
   "source": [
    "## Dataset\n",
    "\n",
    "[ag_news_subset](https://www.tensorflow.org/datasets/catalog/ag_news_subset)"
   ]
  },
  {
   "cell_type": "code",
   "execution_count": 1,
   "id": "1435d355",
   "metadata": {},
   "outputs": [],
   "source": [
    "# Import Libraries --- [keras, sklearn, numpy, pandas, tensorflow, matplotlib]\n",
    "import keras\n",
    "import sklearn\n",
    "import numpy as np\n",
    "import pandas as pd\n",
    "import tensorflow as tf\n",
    "import matplotlib.pyplot as plt"
   ]
  },
  {
   "cell_type": "code",
   "execution_count": 2,
   "id": "e0087292",
   "metadata": {},
   "outputs": [],
   "source": [
    "# pip install tensorflow_datasets\n",
    "import tensorflow_datasets as tfds"
   ]
  },
  {
   "cell_type": "code",
   "execution_count": 3,
   "id": "c705a3d2",
   "metadata": {},
   "outputs": [],
   "source": [
    "# Load 'ag_news_subset' Dataset\n",
    "dataset = tfds.load('ag_news_subset')"
   ]
  },
  {
   "cell_type": "code",
   "execution_count": 4,
   "id": "fd981582",
   "metadata": {},
   "outputs": [
    {
     "data": {
      "text/plain": [
       "{'train': <PrefetchDataset element_spec={'description': TensorSpec(shape=(), dtype=tf.string, name=None), 'label': TensorSpec(shape=(), dtype=tf.int64, name=None), 'title': TensorSpec(shape=(), dtype=tf.string, name=None)}>,\n",
       " 'test': <PrefetchDataset element_spec={'description': TensorSpec(shape=(), dtype=tf.string, name=None), 'label': TensorSpec(shape=(), dtype=tf.int64, name=None), 'title': TensorSpec(shape=(), dtype=tf.string, name=None)}>}"
      ]
     },
     "execution_count": 4,
     "metadata": {},
     "output_type": "execute_result"
    }
   ],
   "source": [
    "dataset"
   ]
  },
  {
   "cell_type": "code",
   "execution_count": 5,
   "id": "6e3ba48c",
   "metadata": {},
   "outputs": [],
   "source": [
    "# Slipt data into train and test part\n",
    "train_ds = dataset['train'] \n",
    "test_ds = dataset['test'] "
   ]
  },
  {
   "cell_type": "code",
   "execution_count": 6,
   "id": "0b3df0c6",
   "metadata": {},
   "outputs": [
    {
     "data": {
      "text/plain": [
       "<PrefetchDataset element_spec={'description': TensorSpec(shape=(), dtype=tf.string, name=None), 'label': TensorSpec(shape=(), dtype=tf.int64, name=None), 'title': TensorSpec(shape=(), dtype=tf.string, name=None)}>"
      ]
     },
     "execution_count": 6,
     "metadata": {},
     "output_type": "execute_result"
    }
   ],
   "source": [
    "train_ds"
   ]
  },
  {
   "cell_type": "code",
   "execution_count": 25,
   "id": "71658d17",
   "metadata": {},
   "outputs": [
    {
     "name": "stdout",
     "output_type": "stream",
     "text": [
      "3-Sci/Tech -> b'AMD Debuts Dual-Core Opteron Processor' // b'AMD #39;s new dual-core Opteron chip is designed mainly for corporate computing applications, including databases, Web services, and financial transactions.'\n",
      "------------------------------------------------------------------------------------------------------------------------\n",
      "1-Sports -> b\"Wood's Suspension Upheld (Reuters)\" // b'Reuters - Major League Baseball\\\\Monday announced a decision on the appeal filed by Chicago Cubs\\\\pitcher Kerry Wood regarding a suspension stemming from an\\\\incident earlier this season.'\n",
      "------------------------------------------------------------------------------------------------------------------------\n",
      "2-Business -> b'Bush reform may have blue states seeing red' // b'President Bush #39;s  quot;revenue-neutral quot; tax reform needs losers to balance its winners, and people claiming the federal deduction for state and local taxes may be in administration planners #39; sights, news reports say.'\n",
      "------------------------------------------------------------------------------------------------------------------------\n",
      "3-Sci/Tech -> b\"'Halt science decline in schools'\" // b'Britain will run out of leading scientists unless science education is improved, says Professor Colin Pillinger.'\n",
      "------------------------------------------------------------------------------------------------------------------------\n",
      "1-Sports -> b'Gerrard leaves practice' // b'London, England (Sports Network) - England midfielder Steven Gerrard injured his groin late in Thursday #39;s training session, but is hopeful he will be ready for Saturday #39;s World Cup qualifier against Austria.'\n",
      "------------------------------------------------------------------------------------------------------------------------\n",
      "0-World -> b'Sony Banking on MGM Deal to Boost Profits' // b'TOKYO - Sony Corp. is banking on the \\\\$3 billion deal to acquire Hollywood studio Metro-Goldwyn-Mayer Inc...'\n",
      "------------------------------------------------------------------------------------------------------------------------\n",
      "3-Sci/Tech -> b'Giant pandas in China reserve get Wi-Fi' // b'Giant pandas may well prefer bamboo to laptops, but wireless technology is helping researchers in China in their efforts to protect the engandered animals living in the remote Wolong Nature Reserve.'\n",
      "------------------------------------------------------------------------------------------------------------------------\n",
      "0-World -> b'Low turnout for Lithuania #39;s elections' // b'VILNIUS, Lithuania - Lithuania #39;s main parties formed an alliance to try to keep a Russian-born tycoon and his populist promises out of the government in Sunday #39;s second round of parliamentary elections in this Baltic country.'\n",
      "------------------------------------------------------------------------------------------------------------------------\n",
      "0-World -> b'Witness says CIA oversaw abuse at Abu Ghraib' // b'Witnesses in the trial of a US soldier charged with abusing prisoners at Abu Ghraib have told the court that the CIA sometimes directed abuse and orders were received from military command to toughen interrogations.'\n",
      "------------------------------------------------------------------------------------------------------------------------\n",
      "1-Sports -> b'Dan Olsen leads PGA qualifying school' // b'Dan Olsen of Ponte Vedra Beach, Fla., shot a 7-under 65 Thursday to take a one-shot lead after two rounds of the PGA Tour qualifying tournament.'\n",
      "------------------------------------------------------------------------------------------------------------------------\n"
     ]
    }
   ],
   "source": [
    "# Inspect Data\n",
    "className = ['World', 'Sports', 'Business', 'Sci/Tech']\n",
    "\n",
    "for i, x in zip(range(10), train_ds):\n",
    "    print(f\"{x['label']}-{className[x['label']]} -> {x['title']} // {x['description']}\")\n",
    "    print('-' * 120)"
   ]
  },
  {
   "cell_type": "markdown",
   "id": "12d5157d",
   "metadata": {},
   "source": [
    "## Components of NLP\n",
    " 1. Natural Language Understanding: Making meaning out of spoken or written language.\n",
    " 2. Natural Language Generation: Taking formal presentation of what to say and express it in a natural human language like (English, French, Spanish)\n",
    " \n",
    "---\n",
    "\n",
    "### Ananlysis Level of NLP\n",
    "\n",
    "- Morphological Analysis\n",
    "- Syntactic Analysis\n",
    "- Semantic Analysis\n",
    "- Discourse Analysis\n",
    "\n",
    "\n",
    "![flowDiagram](images/flowDiagram.png)\n",
    "\n"
   ]
  },
  {
   "cell_type": "markdown",
   "id": "c6fcb1d2",
   "metadata": {},
   "source": [
    "# Morphology\n",
    "Morphology Analysis refers to the analysis of a word based on the meaningful parts contained within\n",
    "\n",
    "\n",
    "### Text vectorization\n",
    "\n",
    "Under this section, two main things are done\n",
    "\n",
    "- Use a tokenizer to split text into tokens.\n",
    "- Build a vocabulary of those tokens."
   ]
  },
  {
   "cell_type": "code",
   "execution_count": null,
   "id": "5ce25efc",
   "metadata": {},
   "outputs": [],
   "source": [
    "# Build Vocabulary\n",
    "vocab_size = 50000\n",
    "vectorizer = keras.layers.experimental.preprocessing.TextVectorization(max_tokens=vocab_size)\n",
    "vectorizer.adapt(ds_train.take(500).map(lambda x: x['title']+' '+x['description']))"
   ]
  },
  {
   "cell_type": "markdown",
   "id": "da1dd444",
   "metadata": {},
   "source": [
    "# Syntax Analysis\n",
    "\n",
    "Syntactic analysis is an analysis that focuses on understanding the logical meaning of sentences or of parts of sentences!\n",
    "\n",
    "### Text vectorization\n",
    "\n",
    "Under this section, two main things are done\n",
    "\n",
    "- Use a tokenizer to split text into tokens.\n",
    "- Build a vocabulary of those tokens."
   ]
  },
  {
   "cell_type": "code",
   "execution_count": null,
   "id": "fa3ca30f",
   "metadata": {},
   "outputs": [],
   "source": []
  }
 ],
 "metadata": {
  "kernelspec": {
   "display_name": "Python 3",
   "language": "python",
   "name": "python3"
  },
  "language_info": {
   "codemirror_mode": {
    "name": "ipython",
    "version": 3
   },
   "file_extension": ".py",
   "mimetype": "text/x-python",
   "name": "python",
   "nbconvert_exporter": "python",
   "pygments_lexer": "ipython3",
   "version": "3.9.1"
  }
 },
 "nbformat": 4,
 "nbformat_minor": 5
}
